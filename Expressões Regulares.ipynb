{
 "cells": [
  {
   "cell_type": "markdown",
   "metadata": {},
   "source": [
    "# O que são Expressões Regulares?\n",
    "\n",
    "Regex é um conjunto de caracteres que define um padrão a ser procurado (correspondido, casado) dentro de uma string ou um texto. É uma técnica para procurar, de forma específica, um padrão. Praticamente toda linguagem de programação atual oferece manipulação de Expressões Regulares.\n",
    "<br>\n",
    "Cada caractere no REGEX pode ser um caractere especial (*metacaractere*), com um determinado significado, ou um caractere regular que representa um caractere literal. Por exemplo, no padrão **```a.```**, **`a`** é um caractere literal que corresponde à letra 'a', enquanto **`.`** é um *metacaractere* que corresponde a qualquer caractere, exceto uma nova linha.\n",
    "<br>\n",
    "\n"
   ]
  },
  {
   "cell_type": "markdown",
   "metadata": {},
   "source": [
    "### Caracteres especiais:\n",
    "No REGEX, os caracteres especiais são:\n",
    "\n",
    "```[ ] . ^ $ * + ? { } \\ | ( )```\n",
    "\n",
    "#### Definições:\n",
    "- Classes de caracteres\n",
    "\n",
    "`[ ]` - Corresponde à uma classe de caracteres, podendo também ser uma sequência.  \n",
    "Ex.: ```[a-z]``` corresponde à qualquer letra minúscula do alfabeto.  \n",
    "Observação: Metacaracteres não têm significado especial dentro de uma classe, ou seja, ```[abe.$]``` vai corresponder à 'a',  'b', 'e', '.' ou '$' em uma determinada string.  \n",
    "  \n",
    "`^` - Possui dois significados, dependendo da posição em que é utilizado. Quando utilizado na primeira posição de uma classe,   representa uma \"negação\".  \n",
    "Ex.: `[^5]` representa qualquer caractere, exceto '5'.   \n",
    "Quando utilizado em outra posição, não possui significado especial.  \n",
    "Ex.: `[5^]` representa '5' ou '^'.  \n",
    "Este caractere, quando fora de uma classe, também representa o início de uma string.\n",
    "\n",
    "`.` - Representa qualquer caractere, exceto uma nova linha.\n",
    "\n",
    "`\\` - É, talvez, o mais importante. Pode ser seguido de vários caracteres para representar diferentes sequências especias. Também pode ser usado para \"escapar\" qualquer metacracter, para que possam ser representados de forma literal.  \n",
    "\n",
    "\n",
    "`\\d` - Representa qualquer número decimal.  \n",
    "`\\D` - Representa qualquer caractere diferente de um número decimal.  \n",
    "`\\w` - Representa qualquer caractere alfanumérico e _.  \n",
    "`\\W` - Representa qualquer caractere diferente de alfanumérico e _.  \n",
    "`\\s` - Representa qualquer espaço vazio.  \n",
    "`\\S` - Representa qualquer caractere diferente de espaço vazio.  \n",
    "`\\b` - Representa a borda de um padrão.\n",
    "    \n",
    "\n",
    "- Qualificadores:\n",
    "\n",
    "`*` - Corresponde à 0 ou mais repetições do padrão que o antecede, o tanto quanto possível. \n",
    "Ex.: `ab*`\n",
    "\n",
    "`+` - Corresponde à 1 ou mais repetições do padrão que o antecede. \n",
    "Ex.: `ab+`\n",
    "\n",
    "`?` - Corresponde à 0 ou mais repetições do padrão que o antecede. \n",
    "Ex.: `ab?`\n",
    "\n",
    "`{m}` - Corresponde à exatamente 'm' repetições do padrão que o antecede.\n",
    "\n",
    "`{m,n}` - Corresponde de 'm' à 'n' repetições, procurando o máximo de repetições possíveis.\n",
    "\n",
    "`|` - Corresponde à expressão anterior ou posterior a este caractere. Caso a primeira expressão seja encontrada, a segunda não será avaliada. Ex.: `a|b` \n",
    "- Grupos:\n",
    " \n",
    "`( )` - Representam o início e fim de um grupo, correspondendo qualquer expressão dentro dos parênteses."
   ]
  },
  {
   "cell_type": "markdown",
   "metadata": {},
   "source": [
    "## MÓDULO PYTHON PARA REGEX (Expressões Regulares)\n",
    "\n",
    "\n",
    "O módulo do Python que usamos para trabalhar com as Expressões Regulares é o __re__. Sua documentação oficial fica em: https://docs.python.org/3/library/re.html. Ele vem pré instalado com o Python.<br>\n",
    "Existe também um outro módulo, criado pela comunidade Python (Matthew Barnett), chamado __regex__, que apesar de sua documentação acusar que o mesmo oferece funcionalidades adicionais, não é o oficial. A documentação do módulo __regex__ fica em: https://pypi.org/project/regex/.\n",
    "<br>\n",
    "<br>\n",
    "Neste documento vamos ver como usar o módulo padrão do Python: __re__.\n",
    "<br>\n",
    "<br>"
   ]
  },
  {
   "cell_type": "markdown",
   "metadata": {},
   "source": [
    "## Métodos do módulo __re__.\n",
    "\n",
    "### re.search\n",
    "O método $search$ retorna a primeira correspondência encontrada.<br>\n",
    "\n",
    "Os argumentos do método search são:<br>\n",
    "- pattern: padrão a ser procurado;<br>\n",
    "- string: onde deve ser procurado;<br>\n",
    "- flags: são os modificadores, que veremos mais a frente.<br>\n",
    " \n",
    "A sintaxe é:   foo = re.search($pattern, string, flags$).<br>\n",
    "\n",
    "O retorno do método search é um objeto do tipo match. Esse objeto terá o valor booleano igual __True__ caso o padrão seja encontrado (correspondido, casado). Caso a correspôndencia não seja satisfeita, retorna __None__. Com isso podemos testar o objeto e fazer o tratamento desejado."
   ]
  },
  {
   "cell_type": "code",
   "execution_count": 1,
   "metadata": {},
   "outputs": [
    {
     "name": "stdout",
     "output_type": "stream",
     "text": [
      "O padrão carro foi encontrado.\n"
     ]
    }
   ],
   "source": [
    "#buscando a string 'carro'\n",
    "import re\n",
    "\n",
    "txt = \"O carro é azul.\"\n",
    "padrao = \"carro\"\n",
    "x = re.search(padrao, txt) \n",
    "\n",
    "if (x):\n",
    "    print(\"O padrão \" + padrao + \" foi encontrado.\")\n",
    "else:\n",
    "    print(\"O padrão procurado não foi encontrado.\")"
   ]
  },
  {
   "cell_type": "code",
   "execution_count": 2,
   "metadata": {},
   "outputs": [
    {
     "name": "stdout",
     "output_type": "stream",
     "text": [
      "O primeiro espaço está localizado na posição: 20\n"
     ]
    }
   ],
   "source": [
    "import re\n",
    "\n",
    "txt = \"Otorrinolaringologia é uma especialidade médica.\"\n",
    "x = re.search(r\"\\s\", txt) # \\s retorna uma correspondência onde a string contém um espaço\n",
    "\n",
    "print(\"O primeiro espaço está localizado na posição:\", x.start())"
   ]
  },
  {
   "cell_type": "markdown",
   "metadata": {},
   "source": [
    "<br>\n",
    "<br>\n",
    " \n",
    "### re.findall \n",
    "O método $findall$ retorna uma lista contendo todas as correspondências. Caso não exista correspondência, a lista retornada é vazia.<br>\n",
    "\n",
    "Os argumentos do método findall são:\n",
    "\n",
    "- pattern: padrão a ser procurado;\n",
    "- string: onde deve ser procurado;\n",
    "- flags: são os modificadores, que veremos mais a frente.\n",
    "\n",
    "A sintaxe é: foo = re.findall($𝑝𝑎𝑡𝑡𝑒𝑟𝑛,𝑠𝑡𝑟𝑖𝑛𝑔,𝑓𝑙𝑎𝑔𝑠$)."
   ]
  },
  {
   "cell_type": "code",
   "execution_count": 7,
   "metadata": {},
   "outputs": [
    {
     "name": "stdout",
     "output_type": "stream",
     "text": [
      "Numero de palavras \"de\": 19 \n",
      "Numero de palavras \"para\": 4\n"
     ]
    }
   ],
   "source": [
    "import re\n",
    "x = []\n",
    "with open('texto1.txt', 'r', encoding='latin') as arq:\n",
    "    linhas = arq.readlines()\n",
    "\n",
    "for linha in linhas:\n",
    "    #retorna uma lista contendo as palavras \"para\" e \"de\"\n",
    "    x = x + re.findall('para|de', linha)\n",
    "\n",
    "print(\"Numero de palavras \\\"de\\\": %d \" % x.count('de'))\n",
    "print(\"Numero de palavras \\\"para\\\": %d\" % x.count('para'))\n",
    "x = []"
   ]
  },
  {
   "cell_type": "code",
   "execution_count": 8,
   "metadata": {},
   "outputs": [
    {
     "data": {
      "text/plain": [
       "['CaRrO', 'carro', 'carro', 'carro']"
      ]
     },
     "execution_count": 8,
     "metadata": {},
     "output_type": "execute_result"
    }
   ],
   "source": [
    "#buscando a string 'carro'\n",
    "import re\n",
    "\n",
    "txt = \"A frase contém: CaRrO car carr carroo acarro carro.\"\n",
    "\n",
    "#monta uma lista com a palavra carro na string.\n",
    "#a sequencia especial \\b significa a delimitacao da palavra carro\n",
    "#A flag r.IGNORECASE (ou r.I) liga o case insensitive, ou seja, não importa se as letras forem maiúsculas ou minúsculas.\n",
    "x = re.findall(r\"carro\", txt, re.IGNORECASE) \n",
    "x"
   ]
  },
  {
   "cell_type": "code",
   "execution_count": 11,
   "metadata": {},
   "outputs": [
    {
     "name": "stdout",
     "output_type": "stream",
     "text": [
      "['benção', 'bencão', 'bensão', 'benssão', 'bençao', 'bencao', 'bensao', 'benssao']\n"
     ]
    }
   ],
   "source": [
    "#buscando a string 'benção' e os erros ortográficos mais comuns\n",
    "import re\n",
    "\n",
    "txt = \"A frase contém: benção bencão bensão benssão bençao bencao bensao benssao \"\n",
    "\n",
    "#monta uma lista com as variantes incorretas da palavra benção\n",
    "#a sequencia especial \\b significa a delimitacao da palavra carro\n",
    "#a sequencia especial \\w: qualquer caracter ou dígito\n",
    "#o caracter especial +: uma ou mais letras (\\w)\n",
    "#a montagem do string fica \\b + ben + \\w + o + \\b\n",
    "#A flag r.IGNORECASE (ou r.I) liga o case insensitive, ou seja, não importa se as letras forem maiúsculas ou minúsculas.\n",
    "x = re.findall(r\"\\bben\\w+o\\b\", txt, re.IGNORECASE) \n",
    "print(x)"
   ]
  },
  {
   "cell_type": "markdown",
   "metadata": {},
   "source": [
    "<br>\n",
    "<br>\n",
    "\n",
    "### re.sub\n",
    "O método $sub$ substitui as correspondências com o padrão desejado.\n",
    "\n",
    "Os argumentos do método sub são:\n",
    "\n",
    "- pattern: padrão a ser procurado;<br>\n",
    "- string: onde deve ser procurado;<br>\n",
    "- flags: são os modificadores, que veremos mais a frente.<br>\n",
    "\n",
    "A sintaxe é: bar = re.sub(𝑝𝑎𝑡𝑡𝑒𝑟𝑛,𝑠𝑡𝑟𝑖𝑛𝑔,𝑓𝑙𝑎𝑔𝑠)."
   ]
  },
  {
   "cell_type": "code",
   "execution_count": 12,
   "metadata": {},
   "outputs": [
    {
     "name": "stdout",
     "output_type": "stream",
     "text": [
      "ThX rXXn Xn SpXXn\n"
     ]
    }
   ],
   "source": [
    "import re\n",
    "\n",
    "str = \"The rain in Spain\"\n",
    "#substitui todas as vogais por X\n",
    "x = re.sub(\"[aeiou]\", \"X\", str)\n",
    "print(x)"
   ]
  },
  {
   "cell_type": "code",
   "execution_count": 13,
   "metadata": {},
   "outputs": [
    {
     "name": "stdout",
     "output_type": "stream",
     "text": [
      "00e 0ai0 i0 00ai0\n"
     ]
    }
   ],
   "source": [
    "import re\n",
    "\n",
    "str = \"The rain in Spain\"\n",
    "#substitui todas as não vogais (consoantes) por 0.\n",
    "x = re.sub(\"[^aeiou\\s]\", \"0\", str)\n",
    "print(x)"
   ]
  },
  {
   "cell_type": "code",
   "execution_count": 14,
   "metadata": {},
   "outputs": [
    {
     "name": "stdout",
     "output_type": "stream",
     "text": [
      "001 0110 10 00110\n"
     ]
    }
   ],
   "source": [
    "import re\n",
    "\n",
    "str = \"The rain in Spain\"\n",
    "#substitui todas as vogais por 1 e todas as não vogais (consoantes) por 0\n",
    "x = re.sub(\"[aeiou]\", \"1\", re.sub(\"[^aeiou\\s]\", \"0\", str))\n",
    "print(x)"
   ]
  },
  {
   "cell_type": "markdown",
   "metadata": {},
   "source": [
    "<br>\n",
    "<br>\n",
    "\n",
    "### re.split\n",
    "O método $split$ divide a string (texto) pela ocorrência do padrão.\n",
    "\n",
    "Os argumentos do método split são:\n",
    "\n",
    "- pattern: padrão a ser procurado;<br>\n",
    "- string: onde deve ser procurado;<br>\n",
    "- flags: são os modificadores, que veremos mais a frente.<br>\n",
    "\n",
    "A sintaxe é: bar = re.split($𝑝𝑎𝑡𝑡𝑒𝑟𝑛,𝑠𝑡𝑟𝑖𝑛𝑔,𝑓𝑙𝑎𝑔𝑠$)."
   ]
  },
  {
   "cell_type": "code",
   "execution_count": 15,
   "metadata": {},
   "outputs": [
    {
     "name": "stdout",
     "output_type": "stream",
     "text": [
      "['The', 'rain', 'in', 'Spain']\n"
     ]
    }
   ],
   "source": [
    "import re\n",
    "\n",
    "str = \"The rain in Spain\"\n",
    "#separa a frase em uma lista usando como delimitador o espaço (\\s) entre as palavras\n",
    "x = re.split(r\"\\s\", str)\n",
    "print(x)"
   ]
  },
  {
   "cell_type": "code",
   "execution_count": 16,
   "metadata": {},
   "outputs": [
    {
     "name": "stdout",
     "output_type": "stream",
     "text": [
      "O telefone (99) 91111-1234 é válido\n"
     ]
    }
   ],
   "source": [
    "#validação de número cde telefone com REGEX\n",
    "import re\n",
    "\n",
    "txt = \"(99) 91111-1234\"\n",
    "\n",
    "x = re.findall(r\"^\\([1-9]{2}\\) (?:[2-8]|9[1-9])[0-9]{3}\\-[0-9]{4}$|^\\([1-9]{2}\\)(?:[2-8]|9[1-9])[0-9]{3}\\-[0-9]{4}$\", txt)\n",
    "if (len(x)!=0):\n",
    "    print(\"O telefone \" + x[0] + \" é válido\")\n",
    "else:\n",
    "    print(\"O número não é válido.\")\n"
   ]
  },
  {
   "cell_type": "markdown",
   "metadata": {},
   "source": [
    "<br>\n",
    "<br>\n",
    "\n",
    "### Referências\n",
    "\n",
    "http://www.devfuria.com.br/python/regex/<br>\n",
    "http://www.devfuria.com.br/regex/metacaracteres/<br>\n",
    "https://docs.python.org/3/library/re.html<br>\n",
    "https://www.w3schools.com/python/python_regex.asp<br>\n",
    "\n",
    "### Sites úteis\n",
    "https://www.debuggex.com/<br>\n",
    "https://regexr.com/<br>\n",
    "https://regex101.com/"
   ]
  }
 ],
 "metadata": {
  "kernelspec": {
   "display_name": "Python 3",
   "language": "python",
   "name": "python3"
  },
  "language_info": {
   "codemirror_mode": {
    "name": "ipython",
    "version": 3
   },
   "file_extension": ".py",
   "mimetype": "text/x-python",
   "name": "python",
   "nbconvert_exporter": "python",
   "pygments_lexer": "ipython3",
   "version": "3.6.7"
  }
 },
 "nbformat": 4,
 "nbformat_minor": 2
}
